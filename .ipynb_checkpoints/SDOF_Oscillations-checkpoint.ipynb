{
 "cells": [
  {
   "cell_type": "code",
   "execution_count": 1,
   "id": "7d99d78b-e364-475a-b115-075a3c6a1969",
   "metadata": {},
   "outputs": [],
   "source": [
    "import matplotlib.pyplot as plt\n"
   ]
  },
  {
   "cell_type": "code",
   "execution_count": null,
   "id": "f0336d04-ef72-4090-9ef1-a03a33a6920e",
   "metadata": {},
   "outputs": [],
   "source": [
    "class SDOFSystem:\n",
    "\n",
    "    def __init__(self, m, c, k, h=0.0001, time_duration=2 ):\n",
    "        self.m = m\n",
    "        self.c = c\n",
    "        self.k = k\n",
    "        self.h = h\n",
    "        self.duration = time_duration\n",
    "        self.x0 = 0.05\n",
    "        self.z0 = 0.0\n",
    "        self.x0_prime = 0.0\n",
    "        self.t = []\n",
    "        self.x = []\n",
    "        slef.z = []\n",
    "        self.z_prime = []\n",
    "        self.x_true = []\n",
    "        self.time_true = []\n",
    "\n",
    "\n",
    "    def calc_z(self, zi, xi):\n",
    "        return zi - (((self.c * zi) + (self.k * xi)) * self.h / self.m)\n",
    "\n",
    "    def calc_z_prime(self, zi, xi):\n",
    "        return -1.0 * (((self.c * zi) + (self.k * xi)) * self.h / self.m)\n",
    "\n",
    "    def calc_x(self, xi, zi):\n",
    "        return xi + (zi * self.h)\n",
    "\n",
    "\n",
    "    def compute_analytical(self):\n",
    "        wn = math.sqrt(self.k / self.m)\n",
    "        chi = self.c / (2 * self.m * wn)\n",
    "        wd = wn * math.sqrt(1 - (chi * chi))\n",
    "        A = self.x0\n",
    "        B = (self.x0_prime + (chi * wn * self.x0)) / wd\n",
    "\n",
    "        xt = []\n",
    "\n",
    "        time = np.arange(0.0, self.duration, 0.0001)\n",
    "\n",
    "        for i in range(len(time)):\n",
    "            xt_new = math.exp(-chi * wn * time[i]) * \\\n",
    "                     (A * math.cos(wd * time[i]) + B * math.sin(wd * time[i]))\n",
    "\n",
    "            xt.append(xt_new)\n",
    "\n",
    "        self.x_true = xt\n",
    "        self.time_true = time"
   ]
  }
 ],
 "metadata": {
  "kernelspec": {
   "display_name": "Python 3 (ipykernel)",
   "language": "python",
   "name": "python3"
  },
  "language_info": {
   "codemirror_mode": {
    "name": "ipython",
    "version": 3
   },
   "file_extension": ".py",
   "mimetype": "text/x-python",
   "name": "python",
   "nbconvert_exporter": "python",
   "pygments_lexer": "ipython3",
   "version": "3.8.19"
  }
 },
 "nbformat": 4,
 "nbformat_minor": 5
}
